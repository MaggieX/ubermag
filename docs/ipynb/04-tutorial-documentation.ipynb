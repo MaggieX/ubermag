{
 "cells": [
  {
   "cell_type": "markdown",
   "metadata": {},
   "source": [
    "# Tutorial 04: Documentation\n",
    "\n",
    "## Getting started\n",
    "\n",
    "A collection of tutorials and exercises for a quick start of using Ubermag can be found in the form of\n",
    "\n",
    "- [static tutorials](https://oommfc.readthedocs.io/en/latest/?badge=latest)\n",
    "- [interactive tutorials](https://mybinder.org/v2/gh/ubermag/oommfc/master?filepath=docs%2Fipynb%2Findex.ipynb)\n",
    "\n",
    "\n",
    "## Comprehensive documentation\n",
    "\n",
    "Ubermag is a meta-package which consists of several subpackages. Each subpackage is responsible for different operations and each of the packages is documented separately. Documentation consists of API references as well as tutorials in the form of Jupyter notebooks.\n",
    "\n",
    "| subpackage | purpose | documentation | interactive tutorials |\n",
    "| --- | --- | --- | --- |\n",
    "| [`ubermagutil`](https://github.com/ubermag/ubermagutil) | imposing typesystem | [documentation](https://ubermagutil.readthedocs.io/en/latest/?badge=latest) | [Binder](https://mybinder.org/v2/gh/ubermag/ubermagutil/master?filepath=docs%2Fipynb%2Findex.ipynb) |\n",
    "| [`discretisedfield`](https://github.com/ubermag/discretisedfield) | operations on finite difference fields | [documentation](http://discretisedfield.readthedocs.io/en/latest/?badge=latest) | [Binder](https://mybinder.org/v2/gh/ubermag/discretisedfield/master?filepath=docs%2Fipynb%2Findex.ipynb) |\n",
    "| [`ubermagtable`](https://github.com/ubermag/ubermagtable) | operations on scalar table data |[documentation](https://ubermagtable.readthedocs.io/en/latest/?badge=latest) | [Binder](https://mybinder.org/v2/gh/ubermag/ubermagtable/master?filepath=docs%2Fipynb%2Findex.ipynb) |\n",
    "| [`micromagneticmodel`](https://github.com/ubermag/micromagneticmodel) | defining a micromagnetic model | [documentation](https://micromagneticmodel.readthedocs.io/en/latest/?badge=latest) | [Binder](https://mybinder.org/v2/gh/ubermag/micromagneticmodel/master?filepath=docs%2Fipynb%2Findex.ipynb) |\n",
    "| [`oommfc`](https://github.com/ubermag/oommfc) | main package | [documentation](https://oommfc.readthedocs.io/en/latest/?badge=latest) | [Binder](https://mybinder.org/v2/gh/ubermag/oommfc/master?filepath=docs%2Fipynb%2Findex.ipynb) |"
   ]
  }
 ],
 "metadata": {
  "kernelspec": {
   "display_name": "Python 3",
   "language": "python",
   "name": "python3"
  },
  "language_info": {
   "codemirror_mode": {
    "name": "ipython",
    "version": 3
   },
   "file_extension": ".py",
   "mimetype": "text/x-python",
   "name": "python",
   "nbconvert_exporter": "python",
   "pygments_lexer": "ipython3",
   "version": "3.7.4"
  }
 },
 "nbformat": 4,
 "nbformat_minor": 2
}
