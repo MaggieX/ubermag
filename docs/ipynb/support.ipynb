{
 "cells": [
  {
   "cell_type": "markdown",
   "metadata": {},
   "source": [
    "# Support\n",
    "\n",
    "We have a number of communication channels available:\n",
    "\n",
    "- Join or read the\n",
    "  [joommf-news](https://groups.google.com/forum/#!forum/joommf-news)\n",
    "  mailing list. Used for announcements and news.\n",
    "\n",
    "- Join or read the\n",
    "  [joommf-users](https://groups.google.com/forum/#!forum/joommf-news)\n",
    "  mailing list. Used for discussion, queries etc from users.\n",
    "\n",
    "- Ask questions on our Gitter [channel](https://gitter.im/joommf/support)\n",
    "\n",
    "- If you have a feature request, support query and you are familiar\n",
    "  with Github (or don't mind using it), please consider submitting an\n",
    "  \"issue\" on the [joommf/help](https://github.com/joommf/help)\n",
    "  repository. \n",
    "\n",
    "- Follow us on Twitter: [@joommf](https://twitter.com/joommf)\n",
    "\n",
    "- Email the project team:\n",
    "  [jupyteroommf@gmail.com](mailto:jupyteroommf@gmail.com)\n",
    "\n",
    "- Checkout the webpage of the project:\n",
    "  [http://joommf.github.io](http://joommf.github.io)\n",
    "\n",
    "- If you are a developer, feel free to look at the source code (all\n",
    "  repositories are in the\n",
    "  [https://github.com/joommf](http://github.com/joommf) organisation.\n",
    "\n",
    "  Pull requests or design suggestions welcome!"
   ]
  }
 ],
 "metadata": {
  "kernelspec": {
   "display_name": "Python 3",
   "language": "python",
   "name": "python3"
  },
  "language_info": {
   "codemirror_mode": {
    "name": "ipython",
    "version": 3
   },
   "file_extension": ".py",
   "mimetype": "text/x-python",
   "name": "python",
   "nbconvert_exporter": "python",
   "pygments_lexer": "ipython3",
   "version": "3.5.2"
  }
 },
 "nbformat": 4,
 "nbformat_minor": 2
}
