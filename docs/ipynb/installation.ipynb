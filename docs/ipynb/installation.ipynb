{
 "cells": [
  {
   "cell_type": "markdown",
   "metadata": {},
   "source": [
    "# Installation\n",
    "\n",
    "To use Ubermag for micromagnetic computations, you need to:\n",
    "\n",
    "1. install Ubermag\n",
    "2. install a computational backend (such as OOMMF or Mumax3)\n",
    "3. ensure Ubermag knows where to find the computational backend.\n",
    "\n",
    "## Step 1: Installing Ubermag\n",
    "\n",
    "Ubermag is a plain Python package (Python at least version 3).\n",
    "\n",
    "Ubermag can be installed from the PYthon Packaging Index using pip:\n",
    "\n",
    "`python3 -m pip install pytest testpath`\n",
    "\n",
    "### TODO: Add some test people can carry out to check installation worked\n",
    "\n",
    "`ubermag --version` \n",
    "`ubermag --test`  [run tests without computational backends only?]\n",
    "\n",
    "## Step 2: Install computational backend\n",
    "\n",
    "If you want to use OOMMF for the calculations, you need to install OOMMF.\n",
    "\n",
    "If you want to use Mumax3 for the calculations, you need to install Mumax3.\n",
    "\n",
    "You can install both, and choose in your script which computational backend should be used.\n",
    "\n",
    "\n",
    "## Step 3: Let \n",
    "\n",
    "# Old stuff\n",
    "\n",
    "We recommend installing `joommf` using `conda` package manager. Detailed installation video instructions for all three major operating systems are available on YouTube:\n",
    "\n",
    "- Windows ([video](https://www.youtube.com/watch?v=Qm9QD7EfJ1Y))\n",
    "- MacOS: ([video](https://www.youtube.com/watch?v=WgoJ2g4j7Mo))\n",
    "- Linux: ([video](https://www.youtube.com/watch?v=Yzg58boZCgI))\n",
    "\n",
    "If you decide to follow the video tutorials, you can **skip the rest of this page**.\n",
    "\n",
    "### 1. Getting Anaconda\n",
    "\n",
    "[Download Anaconda](https://www.anaconda.com/download) for your operating system and follow instructions on the download page.\n",
    "\n",
    "### 2. Installing JOOMMF\n",
    "\n",
    "`joommf` is installed using `conda` by running\n",
    "\n",
    "    conda install --channel conda-forge joommf\n",
    "\n",
    "in your terminal/command prompt.\n",
    "\n",
    "For further information on the `conda` package, dependency, and environment management, please have a look at its [documentation](https://conda.io/docs/).\n",
    "\n",
    "## Other\n",
    "\n",
    "- If you do not want to use conda to install JOOMMF, please follow one of the alternative ways in [advanced installation instructions](advanced-installation.ipynb).\n",
    "- After the installation is complete, you can test your installation by following these [instructions](testing.ipynb)."
   ]
  },
  {
   "cell_type": "code",
   "execution_count": null,
   "metadata": {},
   "outputs": [],
   "source": []
  }
 ],
 "metadata": {
  "anaconda-cloud": {},
  "kernelspec": {
   "display_name": "Python [default]",
   "language": "python",
   "name": "python3"
  },
  "language_info": {
   "codemirror_mode": {
    "name": "ipython",
    "version": 3
   },
   "file_extension": ".py",
   "mimetype": "text/x-python",
   "name": "python",
   "nbconvert_exporter": "python",
   "pygments_lexer": "ipython3",
   "version": "3.5.2"
  }
 },
 "nbformat": 4,
 "nbformat_minor": 1
}
