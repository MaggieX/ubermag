{
 "cells": [
  {
   "cell_type": "markdown",
   "metadata": {},
   "source": [
    "# How does Ubermag find the computational backend?\n"
   ]
  },
  {
   "cell_type": "markdown",
   "metadata": {},
   "source": [
    "## How does ubermag find OOMMF?\n",
    "\n",
    "OOMMFC checks for OOMMF in the following steps until the first method succeeds:\n",
    "\n",
    "1. Is the `OOMMFTCL` variable set? If so, use this value to try to find OOMMF there. (Add link)\n",
    "\n",
    "2. Is OOMMF in the directory it should be in if both `oommf` and `ubermag` were installed using conda.\n",
    "\n",
    "3. If `docker` is available and the docker deamon is running, then OOMMF is used in the Docker container. (The required docker image will be downloaded if necessary.)\n",
    "\n",
    "\n",
    "We can ask `oommfc` for some output detailed these steps using at the python prompt (XXX TODO):\n",
    "\n",
    "```\n",
    "import oommfc\n",
    "oommfc.oommf.get_runner(verbose=True)\n",
    "```\n",
    "\n",
    "or from the command line:\n",
    "\n",
    "```\n",
    "python3 -c \"import oommfc; oommfc.oommfc.get_runner(True)\"\n",
    "```\n"
   ]
  },
  {
   "cell_type": "code",
   "execution_count": null,
   "metadata": {},
   "outputs": [],
   "source": []
  }
 ],
 "metadata": {
  "anaconda-cloud": {},
  "kernelspec": {
   "display_name": "Python [default]",
   "language": "python",
   "name": "python3"
  },
  "language_info": {
   "codemirror_mode": {
    "name": "ipython",
    "version": 3
   },
   "file_extension": ".py",
   "mimetype": "text/x-python",
   "name": "python",
   "nbconvert_exporter": "python",
   "pygments_lexer": "ipython3",
   "version": "3.5.2"
  }
 },
 "nbformat": 4,
 "nbformat_minor": 2
}
