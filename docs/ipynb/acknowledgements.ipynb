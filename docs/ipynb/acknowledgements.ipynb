{
 "cells": [
  {
   "cell_type": "markdown",
   "metadata": {
    "deletable": true,
    "editable": true
   },
   "source": [
    "# Acknowledgements\n",
    "\n",
    "This work was financially supported by the OpenDreamKit – Horizon 2020 European Research Infrastructure project (676541), the EPSRC’s Centre for Doctoral Training in Next Generation Computational Modelling grant EP/L015382/1, and the EPSRC’s Programme grant on Skyrmionics (EP/N032128/1)."
   ]
  }
 ],
 "metadata": {
  "kernelspec": {
   "display_name": "Python 3",
   "language": "python",
   "name": "python3"
  },
  "language_info": {
   "codemirror_mode": {
    "name": "ipython",
    "version": 3
   },
   "file_extension": ".py",
   "mimetype": "text/x-python",
   "name": "python",
   "nbconvert_exporter": "python",
   "pygments_lexer": "ipython3",
   "version": "3.5.2"
  }
 },
 "nbformat": 4,
 "nbformat_minor": 2
}
