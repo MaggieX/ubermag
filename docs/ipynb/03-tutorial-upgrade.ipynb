{
 "cells": [
  {
   "cell_type": "markdown",
   "metadata": {},
   "source": [
    "# Tutorial 03: Upgrading Ubermag\n",
    "\n",
    "In order to have Ubermag with newly added functionalities, as well as any enhancements and fixes, we recommend updating Ubermag regularly.\n",
    "\n",
    "If you used `conda`, as a recommended way for installation, update Ubermag with\n",
    "```\n",
    "$ conda upgrade ubermag\n",
    "```\n",
    "If you used pip to install Ubermag, you can update to the latest released version in [PyPI](https://pypi.org/project/ubermag/) by running\n",
    "```\n",
    "$ python3 -m pip install --upgrade joommf\n",
    "```"
   ]
  }
 ],
 "metadata": {
  "anaconda-cloud": {},
  "kernelspec": {
   "display_name": "Python 3",
   "language": "python",
   "name": "python3"
  },
  "language_info": {
   "codemirror_mode": {
    "name": "ipython",
    "version": 3
   },
   "file_extension": ".py",
   "mimetype": "text/x-python",
   "name": "python",
   "nbconvert_exporter": "python",
   "pygments_lexer": "ipython3",
   "version": "3.7.4"
  }
 },
 "nbformat": 4,
 "nbformat_minor": 1
}
