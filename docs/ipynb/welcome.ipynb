{
 "cells": [
  {
   "cell_type": "markdown",
   "metadata": {},
   "source": [
    "# Welcome to Ubermag\n",
    "\n",
    "Ubermag is a level of (Python) utilities sitting above (\"*über*\") existing micromagnetic simulation packages, such as OOMMF and mumax3. We refer to packages such as OOMMF and mumax3 as the *computational backends*, or as (micromagnetic) *calculators*.\n",
    "\n",
    "The Ubermag Python packages allow to specify a micromagnetic problem (without making use of any micromagnetic calculator). Only when the micromagnetic problem needs to be solved, the task is delegated to the computational backend.\n",
    "\n",
    "Design objectives of Ubermag include to\n",
    "1. work towards a common interface to multiple simulation packages,\n",
    "2. make it easier to compare simulation results obtained with different simulation packages, and\n",
    "3. allow [remote] execution of micromagnetic simulation throgh Jupyter notebooks."
   ]
  }
 ],
 "metadata": {
  "anaconda-cloud": {},
  "kernelspec": {
   "display_name": "Python 3",
   "language": "python",
   "name": "python3"
  },
  "language_info": {
   "codemirror_mode": {
    "name": "ipython",
    "version": 3
   },
   "file_extension": ".py",
   "mimetype": "text/x-python",
   "name": "python",
   "nbconvert_exporter": "python",
   "pygments_lexer": "ipython3",
   "version": "3.7.4"
  }
 },
 "nbformat": 4,
 "nbformat_minor": 2
}
