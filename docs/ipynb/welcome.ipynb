{
 "cells": [
  {
   "cell_type": "markdown",
   "metadata": {},
   "source": [
    "# Welcome to Ubermag"
   ]
  },
  {
   "cell_type": "markdown",
   "metadata": {},
   "source": [
    "Ubermag is a level of (Python) utilities sitting above (\"*über*\") existing micromagnetic simulation packages, such as OOMMF and Mumax3. We refer to packages such as OOMMF and Mumax3 as the *computational backends*, or as (micromagnetic) *calculators*.\n",
    "\n",
    "The Ubermag python packages allows to specify the micromagnetic problem (without making use of any micromagnetic calculator). Only when the micromagnetic problem needs to be solved, the task is sent to the computational backend.\n",
    "\n",
    "Design objectives of Ubermag include to (i) achieve a common interface to a multiple simulation packages, to (ii) make it easier to compare simulation results obtained with different simulation packages, to (iii) allow [remote] execution of micromagnetic simulation throgh Jupyter notebooks.\n",
    "\n"
   ]
  }
 ],
 "metadata": {
  "anaconda-cloud": {},
  "kernelspec": {
   "display_name": "Python [default]",
   "language": "python",
   "name": "python3"
  },
  "language_info": {
   "codemirror_mode": {
    "name": "ipython",
    "version": 3
   },
   "file_extension": ".py",
   "mimetype": "text/x-python",
   "name": "python",
   "nbconvert_exporter": "python",
   "pygments_lexer": "ipython3",
   "version": "3.5.2"
  }
 },
 "nbformat": 4,
 "nbformat_minor": 2
}
