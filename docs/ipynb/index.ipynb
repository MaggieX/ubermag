{
 "cells": [
  {
   "cell_type": "markdown",
   "metadata": {},
   "source": [
    "# Ubermag\n",
    "\n",
    "The following getting started tutorials and exercises are available:\n",
    "\n",
    "- [Tutorial 00: Welcome to Ubermag](00-tutorial-welcome.ipynb)\n",
    "- [](01-tutorial-installation.ipynb)\n",
    "- [](02-tutorial-testing.ipynb)\n",
    "- [](03-tutorial-upgrade.ipynb)\n",
    "- [](04-tutorial-documentation.ipynb)\n",
    "- [](05-tutorial-ubermag-cloud.ipynb)\n",
    "- [](06-tutorial-support.ipynb)\n",
    "- [](07-tutorial-how-to-cite.ipynb)\n",
    "- [](08-tutorial-acknowledgements.ipynb)"
   ]
  }
 ],
 "metadata": {
  "kernelspec": {
   "display_name": "Python 3",
   "language": "python",
   "name": "python3"
  },
  "language_info": {
   "codemirror_mode": {
    "name": "ipython",
    "version": 3
   },
   "file_extension": ".py",
   "mimetype": "text/x-python",
   "name": "python",
   "nbconvert_exporter": "python",
   "pygments_lexer": "ipython3",
   "version": "3.7.4"
  }
 },
 "nbformat": 4,
 "nbformat_minor": 2
}
