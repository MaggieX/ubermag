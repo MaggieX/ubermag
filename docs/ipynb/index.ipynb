{
 "cells": [
  {
   "cell_type": "markdown",
   "metadata": {},
   "source": [
    "# Ubermag\n",
    "\n",
    "The following tutorials are available:\n",
    "\n",
    "- [Tutorial 00: Welcome to Ubermag](00-tutorial-welcome.ipynb)\n",
    "- [Tutorial 01: Installation](01-tutorial-installation.ipynb)\n",
    "- [Tutorial 02: Testing](02-tutorial-testing.ipynb)\n",
    "- [Tutorial 03: Upgrading Ubermag](03-tutorial-upgrade.ipynb)\n",
    "- [Tutorial 04: Micromagnetic tutorials](04-tutorial-micromagnetic-tutorials.ipynb)\n",
    "- [Tutorial 05: Ubermag in the cloud](05-tutorial-ubermag-cloud.ipynb)\n",
    "- [Tutorial 06: Support](06-tutorial-support.ipynb)\n",
    "- [Tutorial 07: How to cite](07-tutorial-how-to-cite.ipynb)\n",
    "- [Tutorial 08: Acknowledgements](08-tutorial-acknowledgements.ipynb)"
   ]
  }
 ],
 "metadata": {
  "kernelspec": {
   "display_name": "Python 3",
   "language": "python",
   "name": "python3"
  },
  "language_info": {
   "codemirror_mode": {
    "name": "ipython",
    "version": 3
   },
   "file_extension": ".py",
   "mimetype": "text/x-python",
   "name": "python",
   "nbconvert_exporter": "python",
   "pygments_lexer": "ipython3",
   "version": "3.7.4"
  }
 },
 "nbformat": 4,
 "nbformat_minor": 2
}
