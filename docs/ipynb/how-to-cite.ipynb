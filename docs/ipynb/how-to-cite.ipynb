{
 "cells": [
  {
   "cell_type": "markdown",
   "metadata": {},
   "source": [
    "# How to cite us\n",
    "\n",
    "If you use JOOMMF in your research, apart from acknowledging OOMMF (http://math.nist.gov/oommf/oommf_cites.html) please acknowledge our interface JOOMMF by citing the following paper:\n",
    "\n",
    "Beg, M., Pepper, R. A., & Fangohr, H. (2017). User interfaces for computational science: A domain specific language for OOMMF embedded in Python. *AIP Advances* **7**, 56025. https://doi.org/10.1063/1.4977225"
   ]
  }
 ],
 "metadata": {
  "kernelspec": {
   "display_name": "Python 3",
   "language": "python",
   "name": "python3"
  },
  "language_info": {
   "codemirror_mode": {
    "name": "ipython",
    "version": 3
   },
   "file_extension": ".py",
   "mimetype": "text/x-python",
   "name": "python",
   "nbconvert_exporter": "python",
   "pygments_lexer": "ipython3",
   "version": "3.5.2"
  }
 },
 "nbformat": 4,
 "nbformat_minor": 2
}
