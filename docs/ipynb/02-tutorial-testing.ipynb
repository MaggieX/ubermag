{
 "cells": [
  {
   "cell_type": "markdown",
   "metadata": {},
   "source": [
    "# Tutorial 02: Testing\n",
    "\n",
    "## Computational backend: OOMMF\n",
    "\n",
    "The command \n",
    "```\n",
    "python3 -c \"import oommfc; oommfc.test()\"\n",
    "```\n",
    "will run a test suite to check that OOMMF is installed and accessible, and carry out additional tests.\n",
    "\n",
    "(On Windows machines, please type `python`, instead of `python3`.)\n",
    "\n",
    "## Computational backend: mumax3\n",
    "\n",
    "The command \n",
    "```\n",
    "python3 -c \"import mumax3c; mumax3c.test()\"\n",
    "```\n",
    "will run a test suite to check that mumax3 is installed and accessible, and carry out additional tests.\n",
    "\n",
    "(On Windows machines, please type `python`, instead of `python3`.)"
   ]
  }
 ],
 "metadata": {
  "anaconda-cloud": {},
  "kernelspec": {
   "display_name": "Python 3",
   "language": "python",
   "name": "python3"
  },
  "language_info": {
   "codemirror_mode": {
    "name": "ipython",
    "version": 3
   },
   "file_extension": ".py",
   "mimetype": "text/x-python",
   "name": "python",
   "nbconvert_exporter": "python",
   "pygments_lexer": "ipython3",
   "version": "3.7.4"
  }
 },
 "nbformat": 4,
 "nbformat_minor": 1
}
